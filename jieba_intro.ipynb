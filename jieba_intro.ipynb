{
 "cells": [
  {
   "cell_type": "markdown",
   "metadata": {},
   "source": [
    "## Introduction to Chinese NLP using Jieba"
   ]
  },
  {
   "cell_type": "markdown",
   "metadata": {},
   "source": [
    "Jieba is an useful library performing Chinese word segmentation.\n",
    "\n",
    "* ```pip install jieba```"
   ]
  },
  {
   "cell_type": "markdown",
   "metadata": {},
   "source": [
    "Jieba supports three segmentation methods:\n",
    "\n",
    "- Accurate Mode (精確模式)，試圖將句子最精確地切開，適合文本分析: ```jieba.cut(sentence, cut_all=False)```\n",
    "    \n",
    "- Full Mode (全模式)，把句子中所有的可以成詞的詞語都掃描出來, 速度非常快，但是不能解決歧義:  ```jieba.cut(sentence, cut_all=True)```\n",
    "\n",
    "- Search Engine Mode (搜索引擎模式)，在精確模式的基礎上，對長詞再次切分，提高召回率，適合用於搜索引擎分詞: ```jieba.cut_for_search```\n",
    "\n",
    "Use Hidden Markov Model as default. Alter by changing the keyword ```HMM=False```."
   ]
  },
  {
   "cell_type": "code",
   "execution_count": 1,
   "metadata": {},
   "outputs": [],
   "source": [
    "import jieba"
   ]
  },
  {
   "cell_type": "code",
   "execution_count": 2,
   "metadata": {},
   "outputs": [
    {
     "name": "stdout",
     "output_type": "stream",
     "text": [
      "Example： 獨立音樂需要大家一起來推廣，歡迎加入我們的行列！\n"
     ]
    }
   ],
   "source": [
    "sentence = \"獨立音樂需要大家一起來推廣，歡迎加入我們的行列！\"\n",
    "print (\"Example：\", sentence)"
   ]
  },
  {
   "cell_type": "code",
   "execution_count": 14,
   "metadata": {},
   "outputs": [],
   "source": [
    "words = jieba.cut(sentence, cut_all=False)"
   ]
  },
  {
   "cell_type": "code",
   "execution_count": 15,
   "metadata": {},
   "outputs": [
    {
     "name": "stdout",
     "output_type": "stream",
     "text": [
      "Default/Accurate Mode:獨立/ 音樂/ 需要/ 大家/ 一起/ 來/ 推廣/ ，/ 歡迎/ 加入/ 我們/ 的/ 行列/ ！\n"
     ]
    }
   ],
   "source": [
    "print(\"Default/Accurate Mode:\" + \"/ \".join(words))"
   ]
  },
  {
   "cell_type": "code",
   "execution_count": 5,
   "metadata": {},
   "outputs": [],
   "source": [
    "sentence_2 = \"独立音乐需要大家一起来推广，欢迎加入我们的行列！\""
   ]
  },
  {
   "cell_type": "code",
   "execution_count": 6,
   "metadata": {},
   "outputs": [],
   "source": [
    "words_2 = jieba.cut(sentence_2, cut_all=False)"
   ]
  },
  {
   "cell_type": "code",
   "execution_count": 8,
   "metadata": {},
   "outputs": [],
   "source": [
    "l_2 = []\n",
    "for x in words_2:\n",
    "    l_2.append(x)"
   ]
  },
  {
   "cell_type": "code",
   "execution_count": 10,
   "metadata": {},
   "outputs": [
    {
     "data": {
      "text/plain": [
       "'音乐/需要/大家/一/起来/推广/，/欢迎/加入/我们/的/行列/！'"
      ]
     },
     "execution_count": 10,
     "metadata": {},
     "output_type": "execute_result"
    }
   ],
   "source": [
    "\"/\".join(l_2)"
   ]
  },
  {
   "cell_type": "markdown",
   "metadata": {},
   "source": [
    "### Compare results: Trad. vs Simp. Chinese\n",
    "\n",
    "There are a slight difference in the segmentation results between Traditional vs Simplified Chinese.\n",
    "\n",
    "This is because the original dictionary is built upon a simplified one."
   ]
  },
  {
   "cell_type": "markdown",
   "metadata": {},
   "source": [
    "## Chinese Lyrics Segmentation\n",
    "\n",
    "This example we will use ***Remeber Me***, the famous theme song from the movie **Coco**."
   ]
  },
  {
   "cell_type": "code",
   "execution_count": 11,
   "metadata": {},
   "outputs": [],
   "source": [
    "lyrics = '''請記住我 雖然再見必須說\n",
    "請記住我 眼淚不要墜落\n",
    "我雖然要離你遠去 你住在我心底\n",
    "在每個分離的夜裡 為你唱一首歌\n",
    "請記住我 雖然我要去遠方\n",
    "請記住我 當聽見吉他的悲傷\n",
    "這就是我跟你在一起唯一的憑據\n",
    "直到我再次擁抱你 請記住我\n",
    "\n",
    "你閉上眼睛音樂就會響起 不停的愛就永不會流失\n",
    "你閉上眼睛音樂就會響起 要不停的愛\n",
    "\n",
    "請記住我 雖然再見必須說\n",
    "請記住我 眼淚不要墜落\n",
    "我雖然要離你遠去 你住在我心底\n",
    "在每個分離的夜裡 為你唱一首歌\n",
    "請記住我 我即將會消失\n",
    "請記住我 我們的愛不會消失\n",
    "我用我的辦法跟你一起不離不棄\n",
    "直到我再次擁抱你 請記住我'''"
   ]
  },
  {
   "cell_type": "code",
   "execution_count": 19,
   "metadata": {},
   "outputs": [],
   "source": [
    "words_3 = jieba.cut(lyrics, cut_all=False)"
   ]
  },
  {
   "cell_type": "code",
   "execution_count": 20,
   "metadata": {},
   "outputs": [
    {
     "name": "stdout",
     "output_type": "stream",
     "text": [
      "請/記住/我/ /雖然/再/見/必須/說/\n",
      "/請/記住/我/ /眼淚/不要/墜落/\n",
      "/我/雖然/要/離/你/遠/去/ /你/住/在/我/心底/\n",
      "/在/每個/分離/的/夜裡/ /為/你/唱/一首歌/\n",
      "/請/記住/我/ /雖然/我/要/去/遠方/\n",
      "/請/記住/我/ /當聽/見/吉他/的/悲傷/\n",
      "/這/就是/我/跟/你/在/一起/唯一/的/憑/據/\n",
      "/直到/我/再次/擁抱/你/ /請/記住/我/\n",
      "/\n",
      "/你/閉上/眼睛/音樂/就/會響/起/ /不停/的/愛就/永不/會/流失/\n",
      "/你/閉上/眼睛/音樂/就/會響/起/ /要/不停/的/愛/\n",
      "/\n",
      "/請/記住/我/ /雖然/再/見/必須/說/\n",
      "/請/記住/我/ /眼淚/不要/墜落/\n",
      "/我/雖然/要/離/你/遠/去/ /你/住/在/我/心底/\n",
      "/在/每個/分離/的/夜裡/ /為/你/唱/一首歌/\n",
      "/請/記住/我/ /我/即/將會/消失/\n",
      "/請/記住/我/ /我們/的/愛不會/消失/\n",
      "/我用/我/的/辦法/跟/你/一起/不離/不棄/\n",
      "/直到/我/再次/擁抱/你/ /請/記住/我/"
     ]
    }
   ],
   "source": [
    "for x in words_3:\n",
    "    print(x, end='/')"
   ]
  },
  {
   "cell_type": "markdown",
   "metadata": {},
   "source": [
    "Satisfied with the result or not? Evalute the result with the next session!"
   ]
  },
  {
   "cell_type": "markdown",
   "metadata": {},
   "source": [
    "## Use Custom Dictionary:\n",
    "We can change the dictionary to a Traditional Chinese one in hopes of getting better performance.\n",
    "\n",
    "Download an example trad Chinese dict: https://github.com/fxsjy/jieba/raw/master/extra_dict/dict.txt.big"
   ]
  },
  {
   "cell_type": "code",
   "execution_count": 21,
   "metadata": {},
   "outputs": [],
   "source": [
    "jieba.set_dictionary('dict.txt.big')"
   ]
  },
  {
   "cell_type": "code",
   "execution_count": 22,
   "metadata": {},
   "outputs": [],
   "source": [
    "words_4 = jieba.cut(lyrics, cut_all=False)"
   ]
  },
  {
   "cell_type": "code",
   "execution_count": 23,
   "metadata": {},
   "outputs": [
    {
     "name": "stderr",
     "output_type": "stream",
     "text": [
      "Building prefix dict from /Users/jsnceo/Py/jieba/dict.txt.big ...\n",
      "Loading model from cache /var/folders/fp/ygfr2w8s7gb54j7j6d93v4980000gn/T/jieba.uef4963dead3e4a0d1fa39402d71b261e.cache\n",
      "Loading model cost 1.236 seconds.\n",
      "Prefix dict has been built succesfully.\n"
     ]
    },
    {
     "name": "stdout",
     "output_type": "stream",
     "text": [
      "請/記住/我/ /雖然/再見/必須/說/\n",
      "/請/記住/我/ /眼淚/不要/墜落/\n",
      "/我/雖然/要/離/你/遠去/ /你/住/在/我/心底/\n",
      "/在/每個/分離/的/夜裡/ /為/你/唱/一首歌/\n",
      "/請/記住/我/ /雖然/我要/去/遠方/\n",
      "/請/記住/我/ /當/聽見/吉他/的/悲傷/\n",
      "/這/就是/我/跟/你/在/一起/唯一/的/憑據/\n",
      "/直到/我/再次/擁抱/你/ /請/記住/我/\n",
      "/\n",
      "/你/閉上眼睛/音樂/就/會/響起/ /不停/的/愛就/永不/會/流失/\n",
      "/你/閉上眼睛/音樂/就/會/響起/ /要/不停/的/愛/\n",
      "/\n",
      "/請/記住/我/ /雖然/再見/必須/說/\n",
      "/請/記住/我/ /眼淚/不要/墜落/\n",
      "/我/雖然/要/離/你/遠去/ /你/住/在/我/心底/\n",
      "/在/每個/分離/的/夜裡/ /為/你/唱/一首歌/\n",
      "/請/記住/我/ /我/即將/會/消失/\n",
      "/請/記住/我/ /我們/的/愛/不會/消失/\n",
      "/我用/我/的/辦法/跟/你/一起/不/離/不棄/\n",
      "/直到/我/再次/擁抱/你/ /請/記住/我/"
     ]
    }
   ],
   "source": [
    "for x in words_4:\n",
    "    print(x, end='/')"
   ]
  },
  {
   "cell_type": "markdown",
   "metadata": {},
   "source": [
    "### Hola! Very small but important differences:\n",
    "\n",
    "* 憑/據/ is now grouped as 憑據\n",
    "* 閉上/眼睛/ is now grouped as 閉上眼睛\n",
    "* 再/見 is grouped as 再見\n",
    "* 我/要/ is grouped as 我要\n",
    "* /當聽/見/ is grouped as /當/聽見/\n",
    "* 就/會響/起/ is grouped as 就/會/響起/\n",
    "* /我/即/將會/消失/ is grouped as /我/即將/會/消失/\n",
    "* /我們/的/愛不會/消失/ is grouped as /我們/的/愛/不會/消失/\n",
    "* 不離/不棄/ is grouped as 不/離/不棄/  *(The only worsened example)*"
   ]
  },
  {
   "cell_type": "markdown",
   "metadata": {},
   "source": [
    "## Load Custom Dictionary to add self-defined new words\n",
    "\n",
    "This function allows user adding new words on top of the default (base) dictionary. Although Jieba has HMM to identify new words, it is more accurate to input on our own."
   ]
  },
  {
   "cell_type": "markdown",
   "metadata": {},
   "source": [
    "First, we have to create a file in the same format as the dictionary above. Each line with a word, word frequency, and POS tag.\n",
    "\n",
    "> POS Tag refers to https://blog.csdn.net/kevin_darkelf/article/details/39520881\n",
    "\n",
    "> Here, i means idiom"
   ]
  },
  {
   "cell_type": "code",
   "execution_count": 25,
   "metadata": {},
   "outputs": [
    {
     "name": "stdout",
     "output_type": "stream",
     "text": [
      "不離不棄 2 i\n"
     ]
    }
   ],
   "source": [
    "!echo '不離不棄 2 i' | tee userdict.txt"
   ]
  },
  {
   "cell_type": "markdown",
   "metadata": {},
   "source": [
    "Using the command line, we got a file named userdict.txt with the new word we want.\n",
    "\n",
    "Load the dict using `jieba.load_userdict()`"
   ]
  },
  {
   "cell_type": "code",
   "execution_count": 27,
   "metadata": {},
   "outputs": [],
   "source": [
    "jieba.load_userdict('userdict.txt')"
   ]
  },
  {
   "cell_type": "code",
   "execution_count": 28,
   "metadata": {},
   "outputs": [],
   "source": [
    "words_5 = jieba.cut(lyrics, cut_all=False)"
   ]
  },
  {
   "cell_type": "code",
   "execution_count": 29,
   "metadata": {},
   "outputs": [
    {
     "name": "stdout",
     "output_type": "stream",
     "text": [
      "請/記住/我/ /雖然/再見/必須/說/\n",
      "/請/記住/我/ /眼淚/不要/墜落/\n",
      "/我/雖然/要/離/你/遠去/ /你/住/在/我/心底/\n",
      "/在/每個/分離/的/夜裡/ /為/你/唱/一首歌/\n",
      "/請/記住/我/ /雖然/我要/去/遠方/\n",
      "/請/記住/我/ /當/聽見/吉他/的/悲傷/\n",
      "/這/就是/我/跟/你/在/一起/唯一/的/憑據/\n",
      "/直到/我/再次/擁抱/你/ /請/記住/我/\n",
      "/\n",
      "/你/閉上眼睛/音樂/就/會/響起/ /不停/的/愛就/永不/會/流失/\n",
      "/你/閉上眼睛/音樂/就/會/響起/ /要/不停/的/愛/\n",
      "/\n",
      "/請/記住/我/ /雖然/再見/必須/說/\n",
      "/請/記住/我/ /眼淚/不要/墜落/\n",
      "/我/雖然/要/離/你/遠去/ /你/住/在/我/心底/\n",
      "/在/每個/分離/的/夜裡/ /為/你/唱/一首歌/\n",
      "/請/記住/我/ /我/即將/會/消失/\n",
      "/請/記住/我/ /我們/的/愛/不會/消失/\n",
      "/我用/我/的/辦法/跟/你/一起/不離不棄/\n",
      "/直到/我/再次/擁抱/你/ /請/記住/我/"
     ]
    }
   ],
   "source": [
    "for x in words_5:\n",
    "    print(x, end='/')"
   ]
  },
  {
   "cell_type": "markdown",
   "metadata": {},
   "source": [
    "See? 不離不棄 is identified as a single group!"
   ]
  },
  {
   "cell_type": "markdown",
   "metadata": {},
   "source": [
    "## Returns words with the Part of Speech"
   ]
  },
  {
   "cell_type": "code",
   "execution_count": 31,
   "metadata": {},
   "outputs": [],
   "source": [
    "from jieba import posseg as pseg"
   ]
  },
  {
   "cell_type": "code",
   "execution_count": 34,
   "metadata": {},
   "outputs": [],
   "source": [
    "words_pseg = pseg.cut('''你閉上眼睛音樂就會響起 不停的愛就永不會流失\n",
    "你閉上眼睛音樂就會響起 要不停的愛''')"
   ]
  },
  {
   "cell_type": "code",
   "execution_count": 35,
   "metadata": {},
   "outputs": [
    {
     "name": "stdout",
     "output_type": "stream",
     "text": [
      "你/r\n",
      "閉上眼睛/i\n",
      "音樂/n\n",
      "就/d\n",
      "會/v\n",
      "響起/v\n",
      " /x\n",
      "不停/d\n",
      "的/uj\n",
      "愛/v\n",
      "就/d\n",
      "永不/d\n",
      "會/v\n",
      "流失/v\n",
      "\n",
      "/x\n",
      "你/r\n",
      "閉上眼睛/i\n",
      "音樂/n\n",
      "就/d\n",
      "會/v\n",
      "響起/v\n",
      " /x\n",
      "要/v\n",
      "不停/d\n",
      "的/uj\n",
      "愛/n\n"
     ]
    }
   ],
   "source": [
    "for x in words_pseg:\n",
    "    print(x)"
   ]
  },
  {
   "cell_type": "markdown",
   "metadata": {},
   "source": [
    "## Returns words with Position"
   ]
  },
  {
   "cell_type": "code",
   "execution_count": 50,
   "metadata": {},
   "outputs": [],
   "source": [
    "word_token = jieba.tokenize('''你閉上眼睛音樂就會響起 不停的愛就永不會流失\n",
    "你閉上眼睛音樂就會響起 要不停的愛''')"
   ]
  },
  {
   "cell_type": "code",
   "execution_count": 51,
   "metadata": {},
   "outputs": [
    {
     "name": "stdout",
     "output_type": "stream",
     "text": [
      "word: 你 \t\t start: 0 \t\t end: 1\n",
      "word: 閉上眼睛 \t\t start: 1 \t\t end: 5\n",
      "word: 音樂 \t\t start: 5 \t\t end: 7\n",
      "word: 就 \t\t start: 7 \t\t end: 8\n",
      "word: 會 \t\t start: 8 \t\t end: 9\n",
      "word: 響起 \t\t start: 9 \t\t end: 11\n",
      "word:   \t\t start: 11 \t\t end: 12\n",
      "word: 不停 \t\t start: 12 \t\t end: 14\n",
      "word: 的 \t\t start: 14 \t\t end: 15\n",
      "word: 愛就 \t\t start: 15 \t\t end: 17\n",
      "word: 永不 \t\t start: 17 \t\t end: 19\n",
      "word: 會 \t\t start: 19 \t\t end: 20\n",
      "word: 流失 \t\t start: 20 \t\t end: 22\n",
      "word: \n",
      " \t\t start: 22 \t\t end: 23\n",
      "word: 你 \t\t start: 23 \t\t end: 24\n",
      "word: 閉上眼睛 \t\t start: 24 \t\t end: 28\n",
      "word: 音樂 \t\t start: 28 \t\t end: 30\n",
      "word: 就 \t\t start: 30 \t\t end: 31\n",
      "word: 會 \t\t start: 31 \t\t end: 32\n",
      "word: 響起 \t\t start: 32 \t\t end: 34\n",
      "word:   \t\t start: 34 \t\t end: 35\n",
      "word: 要 \t\t start: 35 \t\t end: 36\n",
      "word: 不停 \t\t start: 36 \t\t end: 38\n",
      "word: 的 \t\t start: 38 \t\t end: 39\n",
      "word: 愛 \t\t start: 39 \t\t end: 40\n"
     ]
    }
   ],
   "source": [
    "for x in word_token:\n",
    "    print('word: %s \\t\\t start: %d \\t\\t end: %d' % (x[0],x[1],x[2]))"
   ]
  },
  {
   "cell_type": "markdown",
   "metadata": {},
   "source": [
    "## Extracting keywords\n",
    "\n",
    "Built-in IDF corpus comes in handy!"
   ]
  },
  {
   "cell_type": "code",
   "execution_count": 52,
   "metadata": {},
   "outputs": [],
   "source": [
    "import jieba.analyse"
   ]
  },
  {
   "cell_type": "code",
   "execution_count": 55,
   "metadata": {},
   "outputs": [],
   "source": [
    "tags = jieba.analyse.extract_tags(lyrics, topK=10, withWeight=True)"
   ]
  },
  {
   "cell_type": "code",
   "execution_count": 56,
   "metadata": {},
   "outputs": [
    {
     "data": {
      "text/plain": [
       "[('記住', 1.6603843754027778),\n",
       " ('雖然', 0.8301921877013889),\n",
       " ('再見', 0.33207687508055556),\n",
       " ('必須', 0.33207687508055556),\n",
       " ('眼淚', 0.33207687508055556),\n",
       " ('墜落', 0.33207687508055556),\n",
       " ('遠去', 0.33207687508055556),\n",
       " ('每個', 0.33207687508055556),\n",
       " ('分離', 0.33207687508055556),\n",
       " ('夜裡', 0.33207687508055556)]"
      ]
     },
     "execution_count": 56,
     "metadata": {},
     "output_type": "execute_result"
    }
   ],
   "source": [
    "tags"
   ]
  },
  {
   "cell_type": "markdown",
   "metadata": {},
   "source": [
    "Remember, this result is based on the trained idf comes along with the jieba library. In practice, we might want to use different idf in different semantics environment. \n",
    "\n",
    "If we want to learn the idf vector for specific corpus, try using scikit-learn `sklearn.feature_extraction.text.TfidfVectorizer` and then load it with `jieba.analyse.set_idf_path(file_name)`.\n",
    "\n",
    "Same function available for stop words: `jieba.analyse.set_stop_words(file_name)`"
   ]
  },
  {
   "cell_type": "markdown",
   "metadata": {},
   "source": [
    "* Keywords extraction using TextRank algorithm is available as well! (TextRank is an algorithm developed by Mihalcea & Tarau (2004))"
   ]
  },
  {
   "cell_type": "code",
   "execution_count": 60,
   "metadata": {},
   "outputs": [
    {
     "data": {
      "text/plain": [
       "[('記住', 1.0),\n",
       " ('音樂', 0.5567601041132135),\n",
       " ('眼淚', 0.48799869757082176),\n",
       " ('擁抱', 0.487994814254722),\n",
       " ('響起', 0.3684034610780498),\n",
       " ('聽見', 0.3232401858606175),\n",
       " ('消失', 0.3232401858606175),\n",
       " ('直到', 0.25738429474895475),\n",
       " ('再見', 0.25490417641642066),\n",
       " ('墜落', 0.2536201186061362),\n",
       " ('流失', 0.20217297849281443),\n",
       " ('吉他', 0.1854785682972578),\n",
       " ('不會', 0.1854785682972578)]"
      ]
     },
     "execution_count": 60,
     "metadata": {},
     "output_type": "execute_result"
    }
   ],
   "source": [
    "jieba.analyse.textrank(lyrics, withWeight=True)"
   ]
  },
  {
   "cell_type": "markdown",
   "metadata": {},
   "source": [
    "Additional Reading Materials:\n",
    "1. http://blogs.lessthandot.com/index.php/artificial-intelligence/automated-keyword-extraction-tf-idf-rake-and-textrank/"
   ]
  },
  {
   "cell_type": "markdown",
   "metadata": {},
   "source": [
    "References:\n",
    "1. https://github.com/fxsjy/jieba\n",
    "2. http://blog.fukuball.com/ru-he-shi-yong-jieba-jie-ba-zhong-wen-fen-ci-cheng-shi/"
   ]
  }
 ],
 "metadata": {
  "kernelspec": {
   "display_name": "Python 3",
   "language": "python",
   "name": "python3"
  },
  "language_info": {
   "codemirror_mode": {
    "name": "ipython",
    "version": 3
   },
   "file_extension": ".py",
   "mimetype": "text/x-python",
   "name": "python",
   "nbconvert_exporter": "python",
   "pygments_lexer": "ipython3",
   "version": "3.6.4"
  }
 },
 "nbformat": 4,
 "nbformat_minor": 2
}
